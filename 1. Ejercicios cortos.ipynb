{
 "cells": [
  {
   "cell_type": "markdown",
   "metadata": {
    "id": "IQwESVLv1h9Q"
   },
   "source": [
    "<h1>Ejercicios cortos (4 puntos)</h1>"
   ]
  },
  {
   "cell_type": "markdown",
   "metadata": {
    "id": "bvaa_puQUMeQ"
   },
   "source": [
    "**Nombre**: Grecia \n",
    "\n",
    "**Apellido**: Salas"
   ]
  },
  {
   "cell_type": "markdown",
   "metadata": {
    "id": "_0jSkrVL1h9Z"
   },
   "source": [
    "En este primer notebook, puedes encontrar el enunciado de seis ejercicios cortos a los que deberás dar solución en una única celda de código. En los casos en los que se pida una función, se debe incluir un ejemplo de llamada a la función creada.\n",
    "\n",
    "Los ejercicios del 1 al 5 puntúan 0,6 puntos cada uno. El último 1 punto."
   ]
  },
  {
   "cell_type": "markdown",
   "metadata": {
    "id": "ugBYLsqt1h9b"
   },
   "source": [
    "<h3>1. Escribe un programa que guarde en una lista todos los enteros entre 1100 y 2100 (ambos incluidos) que sean múltiplos de 7 pero no divisibles por 5.</h3>"
   ]
  },
  {
   "cell_type": "code",
   "execution_count": 27,
   "metadata": {
    "tags": []
   },
   "outputs": [
    {
     "name": "stdout",
     "output_type": "stream",
     "text": [
      "1106\n",
      "1113\n",
      "1127\n",
      "1134\n",
      "1141\n",
      "1148\n",
      "1162\n",
      "1169\n",
      "1176\n",
      "1183\n",
      "1197\n",
      "1204\n",
      "1211\n",
      "1218\n",
      "1232\n",
      "1239\n",
      "1246\n",
      "1253\n",
      "1267\n",
      "1274\n",
      "1281\n",
      "1288\n",
      "1302\n",
      "1309\n",
      "1316\n",
      "1323\n",
      "1337\n",
      "1344\n",
      "1351\n",
      "1358\n",
      "1372\n",
      "1379\n",
      "1386\n",
      "1393\n",
      "1407\n",
      "1414\n",
      "1421\n",
      "1428\n",
      "1442\n",
      "1449\n",
      "1456\n",
      "1463\n",
      "1477\n",
      "1484\n",
      "1491\n",
      "1498\n",
      "1512\n",
      "1519\n",
      "1526\n",
      "1533\n",
      "1547\n",
      "1554\n",
      "1561\n",
      "1568\n",
      "1582\n",
      "1589\n",
      "1596\n",
      "1603\n",
      "1617\n",
      "1624\n",
      "1631\n",
      "1638\n",
      "1652\n",
      "1659\n",
      "1666\n",
      "1673\n",
      "1687\n",
      "1694\n",
      "1701\n",
      "1708\n",
      "1722\n",
      "1729\n",
      "1736\n",
      "1743\n",
      "1757\n",
      "1764\n",
      "1771\n",
      "1778\n",
      "1792\n",
      "1799\n",
      "1806\n",
      "1813\n",
      "1827\n",
      "1834\n",
      "1841\n",
      "1848\n",
      "1862\n",
      "1869\n",
      "1876\n",
      "1883\n",
      "1897\n",
      "1904\n",
      "1911\n",
      "1918\n",
      "1932\n",
      "1939\n",
      "1946\n",
      "1953\n",
      "1967\n",
      "1974\n",
      "1981\n",
      "1988\n",
      "2002\n",
      "2009\n",
      "2016\n",
      "2023\n",
      "2037\n",
      "2044\n",
      "2051\n",
      "2058\n",
      "2072\n",
      "2079\n",
      "2086\n",
      "2093\n"
     ]
    }
   ],
   "source": [
    "ejer1 = list(range(1100,2101)) #creo la lista con la función range\n",
    "\n",
    "for i in ejer1:\n",
    "    if i % 7 == 0 and i % 5 != 0:   #especifico los multiplos de 7 con modulo igual a cero y \n",
    "                                    #los multiplos de 5 con modulo con modulo distinto de cero\n",
    "        print (i)                   #impromo los elementos de la lista"
   ]
  },
  {
   "cell_type": "code",
   "execution_count": 39,
   "metadata": {
    "tags": []
   },
   "outputs": [
    {
     "name": "stdout",
     "output_type": "stream",
     "text": [
      "[1106, 1113, 1127, 1134, 1141, 1148, 1162, 1169, 1176, 1183, 1197, 1204, 1211, 1218, 1232, 1239, 1246, 1253, 1267, 1274, 1281, 1288, 1302, 1309, 1316, 1323, 1337, 1344, 1351, 1358, 1372, 1379, 1386, 1393, 1407, 1414, 1421, 1428, 1442, 1449, 1456, 1463, 1477, 1484, 1491, 1498, 1512, 1519, 1526, 1533, 1547, 1554, 1561, 1568, 1582, 1589, 1596, 1603, 1617, 1624, 1631, 1638, 1652, 1659, 1666, 1673, 1687, 1694, 1701, 1708, 1722, 1729, 1736, 1743, 1757, 1764, 1771, 1778, 1792, 1799, 1806, 1813, 1827, 1834, 1841, 1848, 1862, 1869, 1876, 1883, 1897, 1904, 1911, 1918, 1932, 1939, 1946, 1953, 1967, 1974, 1981, 1988, 2002, 2009, 2016, 2023, 2037, 2044, 2051, 2058, 2072, 2079, 2086, 2093]\n"
     ]
    }
   ],
   "source": [
    "ejer1 = [i for i in range(1100,2101)    #He realizado el mismo proceso anterior, pero en este caso \n",
    "                                        #con una lista de comprención\n",
    "         if i % 7 == 0 and i % 5 != 0]\n",
    "print(ejer1)"
   ]
  },
  {
   "cell_type": "markdown",
   "metadata": {
    "id": "GKAvi4W61h9f"
   },
   "source": [
    "<h3>2. Escribe una comprensión de lista que a partir de una lista de números genere otra con el valor absoluto de la parte entera cada elemento distinto de cero. Los ceros deben eliminarse de la lista.</h3>"
   ]
  },
  {
   "cell_type": "code",
   "execution_count": 45,
   "metadata": {
    "id": "KTMwqN4m1h9g",
    "tags": []
   },
   "outputs": [
    {
     "name": "stdout",
     "output_type": "stream",
     "text": [
      "[10, 9, 8, 7, 6, 5, 4, 3, 2, 1, 1, 2, 3, 4, 5, 6, 7, 8, 9]\n"
     ]
    }
   ],
   "source": [
    "ejer2 = [abs(i) for i in range(-10,10)    #Usando la función absoluto, creo itero en un \n",
    "                                          #elemento con el rango especifio (-10,10)\n",
    "        if i != 0]                        #Creo un condicional que me los elementos distintos a cero\n",
    "print(ejer2)"
   ]
  },
  {
   "cell_type": "markdown",
   "metadata": {
    "id": "tt-rHDgS1h9i",
    "tags": []
   },
   "source": [
    "### 3. Crea una función que reciba como _input_ una lista y devuelva una tupla (valor, cantidad de repeticiones), donde la cantidad de repeticiones es el número de veces consecutivas que aparece el valor. \n",
    "\n",
    "Por ejemplo, empaquetar ([1, 1, 1, 3, 5, 1, 1, 3, 3]) debe devolver [(1, 3) , (3, 1) , (5, 1), (1, 2), (3, 2)].\n",
    "\n",
    "**Observación:** La lista no tiene por qué ser sólo de números."
   ]
  },
  {
   "cell_type": "code",
   "execution_count": 94,
   "metadata": {
    "tags": []
   },
   "outputs": [
    {
     "name": "stdout",
     "output_type": "stream",
     "text": [
      "[1, 1, 2, 3, 5, 1, 1, 3, 3]\n"
     ]
    }
   ],
   "source": [
    "my_list = [1,1,2,3,5,1,1,3,3]  #Creo una lista (input de la función)\n",
    "print (my_list)"
   ]
  },
  {
   "cell_type": "code",
   "execution_count": 95,
   "metadata": {},
   "outputs": [],
   "source": [
    "def empaquetar(my_list):\n",
    "    \n",
    "    lista, n = [],1                        # Creo la variable donde irá la tuplas, especificando las\n",
    "                                           # veces que se repite el numero hasta cambiar\n",
    "    for i in range(0,len(my_list)-1):\n",
    "        if my_list[i] == my_list[i+1]:     # Condicional que indique si el numero es igual al siguiente\n",
    "            if i!= len(my_list) - 2:       # Compruebo que no sea el ultimo numero de la lista\n",
    "                n += 1                     # Creo la suma del numero anterior, más la cantidad que se repite\n",
    "            else:\n",
    "                n += 1                    # Condicional en caso de ser el ultimo numero\n",
    "                tupla = (my_list[i],n)    # Creo la tupla\n",
    "                lista.append(tupla)       # Agrego la lista (input de la función)\n",
    "                \n",
    "        else:                             # Condicional en caso de no ser el ultimo numero\n",
    "            tupla = (my_list[i],n)        # Creo la tupla\n",
    "            lista.append(tupla)           # Agrego la lista (input de la función)\n",
    "            n = 1                         # Defino numero de veces de repetición, para que no me el anterior\n",
    "    return lista                          "
   ]
  },
  {
   "cell_type": "code",
   "execution_count": 96,
   "metadata": {},
   "outputs": [
    {
     "data": {
      "text/plain": [
       "[(1, 2), (2, 1), (3, 1), (5, 1), (1, 2), (3, 2)]"
      ]
     },
     "execution_count": 96,
     "metadata": {},
     "output_type": "execute_result"
    }
   ],
   "source": [
    "empaquetar(my_list)"
   ]
  },
  {
   "cell_type": "markdown",
   "metadata": {
    "id": "cJkrULG11h9l"
   },
   "source": [
    "###  4. Define una función es_palindromo() que reconozca palíndromos (es decir, palabras que tienen el mismo aspecto escritas invertidas), ejemplo: es_palindromo (\"radar\") tendría que devolver True."
   ]
  },
  {
   "cell_type": "code",
   "execution_count": 109,
   "metadata": {
    "id": "EbBX_zQe1h9m",
    "tags": []
   },
   "outputs": [
    {
     "data": {
      "text/plain": [
       "True"
      ]
     },
     "execution_count": 109,
     "metadata": {},
     "output_type": "execute_result"
    }
   ],
   "source": [
    "def es_palindromo(palabra):                 \n",
    "    palabra = palabra.lower()             # Aplico el metodo lower, para que evitar confusión\n",
    "                                          #entre mayusculas y minusculas         \n",
    "    if palabra == palabra[::-1]:          # Creo condicional para verificar que la palabra que ingresa \n",
    "                                          #se lee igual de manera inversa\n",
    "        es_palindromo = True              # Si es igual pido que responda True\n",
    "    else:\n",
    "        es_palindromo =False              # Si es distinta pido que responda Flase\n",
    "        \n",
    "    return es_palindromo\n",
    "\n",
    "es_palindromo('Salas')"
   ]
  },
  {
   "cell_type": "code",
   "execution_count": 5,
   "metadata": {
    "tags": []
   },
   "outputs": [
    {
     "name": "stdin",
     "output_type": "stream",
     "text": [
      "Salas \n"
     ]
    },
    {
     "name": "stdout",
     "output_type": "stream",
     "text": [
      "True\n"
     ]
    }
   ],
   "source": [
    "es_palindromo = input('Salas')\n",
    "if str(es_palindromo) == \"\".join(reversed(es_palindromo)) :\n",
    "    print('True')\n",
    "else:\n",
    "    print('Flase')"
   ]
  },
  {
   "cell_type": "markdown",
   "metadata": {
    "id": "CWfkaarV5Mfd",
    "tags": []
   },
   "source": [
    "### 5. Crea una función que reciba un diccionario que tenga como valores listas numéricas y devuelva aquellas claves que tienen la media de sus valores por encima de la mediana de las medias de los valores de los diccionarios.\n",
    "\n",
    "Por ejemplo, es_top({\"Equipo_1\": [3,1,0,3,1,0,3], \"Equipo_2\": [0,1,0,0,1,3], \"Equipo_3\": [3,3,3,0,0,0,1,3]}) debe devolver [\"Equipo_3\"].\n",
    "\n",
    "**Observaciones**: Los valores en el diccionario deben ser numéricos."
   ]
  },
  {
   "cell_type": "code",
   "execution_count": 110,
   "metadata": {
    "id": "G5P0u8r41h9n",
    "tags": []
   },
   "outputs": [
    {
     "name": "stdout",
     "output_type": "stream",
     "text": [
      "{'Equipo_1': [1, 5, 9, 4, 0], 'Equipo_2': [2, 6, 7, 8, 3], 'Equipo_3': [4, 6, 7, 2, 1]}\n"
     ]
    }
   ],
   "source": [
    "dic = {\"Equipo_1\":[1,5,9,4,0],\"Equipo_2\":[2,6,7,8,3],\"Equipo_3\":[4,6,7,2,1]}\n",
    "print(dic)"
   ]
  },
  {
   "cell_type": "code",
   "execution_count": 113,
   "metadata": {},
   "outputs": [],
   "source": [
    "def funcion_5(dic):        \n",
    "    medias = []                                 # Creo lista vacia, para que entren las medias de las keys\n",
    "    keys = []                                   # Creo lista vacia, para guardar las keys para que coincidan \n",
    "                                                #con el indice de las medias\n",
    "    for i in dic:\n",
    "        medias.append(sum(dic[i])/len(dic[i]))    # Utilizo el metodo append para agregar a las listas \n",
    "                                                  #el calculo de las medias\n",
    "        keys.append(i)\n",
    "    medias_sorted = sorted(medias)                    # Ordeno las medias\n",
    "    if len(medias_sorted) % 2 != 0:                   # Condicional para saber si los elementos de la \n",
    "                                                      #lista es impar\n",
    "        mediana = medias_sorted[int(len(medias_sorted)/2)]   # Calculo el numero entero que se encuentra \n",
    "                                                             #justo en la mitad de la lista\n",
    "    else:\n",
    "        mediana = (medias_sorted[int(len(medias_sorted)/2)] + # Calculo el numero entero que se encuentra  \n",
    "               medias_sorted[int(len(medias_sorted)/2)-1])/2  #justo en la mitad de la lista de manera inversa\n",
    "    for i in range(len(medias)):                           \n",
    "        if medias[i] > mediana:           # Condicional para saber si las medias son menores que la mediana\n",
    "            key_max = keys[i]             # Creo una variable key_max, que es la Key con la media por \n",
    "                                          #encima de la mediana\n",
    "    \n",
    "    return [key_max]"
   ]
  },
  {
   "cell_type": "code",
   "execution_count": 112,
   "metadata": {},
   "outputs": [
    {
     "data": {
      "text/plain": [
       "['Equipo_2']"
      ]
     },
     "execution_count": 112,
     "metadata": {},
     "output_type": "execute_result"
    }
   ],
   "source": [
    "funcion_5(dic)"
   ]
  },
  {
   "cell_type": "markdown",
   "metadata": {
    "id": "ked8-uQ51h9o",
    "tags": []
   },
   "source": [
    "### 6.  Un  cuadrado mágico es una matriz cuadrada de números enteros en la que se cumple que la suma de los números en cada fila, en cada columna y en ambas diagonales da siempre el mismo valor, denominado  constante mágica.\n",
    "\n",
    "El objetivo de este ejercicio es crear una función, basada en las funcionalidades que nos da el módulo  NumPy de Python, que permita detectar si un fichero de texto tiene como contenido un _pseudocuadrado_ mágico o no. La función deberá tener la siguiente cabecera: **def  puede_ser_cuadrado_magico(ruta).**  \n",
    "\n",
    "**¿Qué entenderemos por _pseudocuadrado_ mágico?** Es una matriz a la que le falta una fila para ser mágica, es decir, a la que le podríamos añadir una fila y convertirla en cuadrado mágico. \n",
    "\n",
    "  \n",
    "Concretamente, las tareas que tendrá que realizar dicha función, son las siguientes:  \n",
    "\n",
    "● Leer, de la ruta recibida como parámetro y mediante la función  loadtxt, una matriz de enteros de NumPy (asume que el fichero tiene el formato básico que NumPy utiliza al llamar a la función savetxt).  \n",
    "\n",
    "\n",
    "● Comprobar que si matriz leída es un cuadrado mágico validando que se cumplen las propiedades necesarias: \n",
    "\n",
    "    ○ Es cuadrada.  \n",
    "    ○ Contiene enteros diferentes.  \n",
    "    ○ La suma de filas, columnas y diagonales coincide,\n",
    "    \n",
    "  y, en su defecto, comprobar si es un _pseudocuadrado_ mágico.\n",
    "\n",
    "Como resultado, la función devolverá:  \n",
    "\n",
    "● La cadena “No es un cuadrado mágico” en caso de que no se cumplan las propiedades.\n",
    "\n",
    "● La cadena “Es un cuadrado mágico de constante XX” en caso de que se cumplan las propiedades. Donde XX será el valor concreto de la constante mágica del cuadrado validado.\n",
    "\n",
    "● La cadena \"No es un cuadrado mágico, pero podría serlo\" en caso de que sea un _pseudocuadrado_ mágico.\n",
    "\n",
    "Se deberán tener en cuenta (y controlar) los posibles errores asociados a la lectura (p.e. la ruta no existe, el fichero leído no tiene el formato adecuado...), pero no es necesario que se haga un control específico de cada uno de los mismos. Es decir, con controlar cualquier posible excepción y mostrar un mensaje de error genérico sería suficiente.\n",
    "\n",
    "**PISTA:** la constante mágica de un cuadrado mágico de orden $n,$ se calcula como: \n",
    " \n",
    " $$ \\dfrac{n(n^2  + 1)}{2}.$$"
   ]
  },
  {
   "cell_type": "code",
   "execution_count": 98,
   "metadata": {
    "id": "eYQUDVcL1h9q",
    "tags": []
   },
   "outputs": [],
   "source": [
    "import numpy as np"
   ]
  },
  {
   "cell_type": "code",
   "execution_count": 99,
   "metadata": {
    "tags": []
   },
   "outputs": [
    {
     "data": {
      "text/plain": [
       "dtype('int64')"
      ]
     },
     "execution_count": 99,
     "metadata": {},
     "output_type": "execute_result"
    }
   ],
   "source": [
    "matriz = np.arange(25).reshape(5,5)   #Creo una matriz, con elementos aleatorios\n",
    "matriz\n",
    "matriz.dtype"
   ]
  },
  {
   "cell_type": "code",
   "execution_count": 100,
   "metadata": {},
   "outputs": [],
   "source": [
    "np.savetxt('matriz', matriz, fmt= '%i')"
   ]
  },
  {
   "cell_type": "code",
   "execution_count": 116,
   "metadata": {},
   "outputs": [
    {
     "name": "stdout",
     "output_type": "stream",
     "text": [
      "No es un cuadrado mágico\n"
     ]
    }
   ],
   "source": [
    "def puede_ser_cuadrado_magico(ruta):\n",
    "    \n",
    "    es_cuadrada = False\n",
    "    lad_ig = False\n",
    "    int_num_dif = False\n",
    "    \n",
    "    try:\n",
    "        \n",
    "        matriz = np.loadtxt(ruta)                       \n",
    "        \n",
    "        if matriz.shape[0] == matriz.shape[1]:   # Compruebo si es cuadrada:      \n",
    "            es_cuadrada = True\n",
    "        \n",
    "        check = 0  # Verifico que se cumplen los requisitos \n",
    "        for i in np.unique(matriz.astype('float')):      # Compruebo si son enteros:\n",
    "            if float(str(i).split('.')[1]) == 0:         # Separo la parte entera de la parte de la decimal\n",
    "                check +=1  # Verifico que se cumplen los requisitos \n",
    "        if (len(np.unique(matriz)) ==                    # Extraigo los valores unicos de la matriz             \n",
    "            len(set(np.unique(matriz)))) & (check == len(np.unique(matriz.astype('float')))): \n",
    "                int_num_dif = True                       # Convierto en Float\n",
    "        \n",
    "        list_ = [sum(i) for i in matriz] + [sum(i) for i in matriz.T]   # Compruebo si la suma de los lados\n",
    "                                                                        #y diagonales son iguales\n",
    "        list_.append(sum(np.flipud(matriz).diagonal()))                 # Agrego la suma de la inversa \n",
    "                                                                        #de la matriz                 \n",
    "        list_.append(sum(np.diagonal(matriz)))                         \n",
    "    \n",
    "        if len(set(list_)) == 1:        #Saco los elementos unicos de la lista\n",
    "           \n",
    "            lad_ig = True\n",
    "        \n",
    "        if (es_cuadrada == True ) & (int_num_dif == True) & (lad_ig == True):\n",
    "            print('Es un cuadrado mágico de constante ' + str(int((matriz.shape[0] ** 2 + 1)/2)))\n",
    "    \n",
    "        elif (es_cuadrada == False)  & (int_num_dif == True) & (matriz.shape[0] + 1 == \n",
    "                                                                                   matriz.shape[1]):\n",
    "            print('No es un cuadrado mágico, pero podría serlo')\n",
    "            \n",
    "        else:\n",
    "            print('No es un cuadrado mágico')\n",
    "            \n",
    "    except:\n",
    "        print('Introduzca ruta de array valida')\n",
    "              \n",
    "              \n",
    "puede_ser_cuadrado_magico('matriz')\n"
   ]
  },
  {
   "cell_type": "code",
   "execution_count": null,
   "metadata": {},
   "outputs": [],
   "source": []
  }
 ],
 "metadata": {
  "colab": {
   "collapsed_sections": [],
   "name": "1. Ejercicios cortos.ipynb",
   "provenance": []
  },
  "kernelspec": {
   "display_name": "Python 3 (ipykernel)",
   "language": "python",
   "name": "python3"
  },
  "language_info": {
   "codemirror_mode": {
    "name": "ipython",
    "version": 3
   },
   "file_extension": ".py",
   "mimetype": "text/x-python",
   "name": "python",
   "nbconvert_exporter": "python",
   "pygments_lexer": "ipython3",
   "version": "3.9.7"
  }
 },
 "nbformat": 4,
 "nbformat_minor": 4
}
